{
 "cells": [
  {
   "cell_type": "code",
   "execution_count": 2,
   "id": "8791bc81-a9f0-4b04-99aa-d97d1c0f5655",
   "metadata": {},
   "outputs": [],
   "source": [
    "import numpy as np"
   ]
  },
  {
   "cell_type": "code",
   "execution_count": 3,
   "id": "f69b8a5d-98fe-4168-ad2a-44c9c5c9bbd0",
   "metadata": {},
   "outputs": [
    {
     "data": {
      "text/plain": [
       "array([[1, 2, 3],\n",
       "       [4, 5, 6],\n",
       "       [7, 8, 9]])"
      ]
     },
     "execution_count": 3,
     "metadata": {},
     "output_type": "execute_result"
    }
   ],
   "source": [
    "n = [[1,2,3], [4,5,6], [7,8,9]]\n",
    "a = np.array(n)\n",
    "a"
   ]
  },
  {
   "cell_type": "code",
   "execution_count": 7,
   "id": "1c15f4d9-4c18-4dc6-90b7-73d0162f2bcb",
   "metadata": {},
   "outputs": [
    {
     "data": {
      "text/plain": [
       "numpy.ndarray"
      ]
     },
     "execution_count": 7,
     "metadata": {},
     "output_type": "execute_result"
    }
   ],
   "source": [
    "type(a)"
   ]
  },
  {
   "cell_type": "code",
   "execution_count": 8,
   "id": "0d8d1b68-60c1-4195-a6e8-fef6b81a4b04",
   "metadata": {},
   "outputs": [
    {
     "data": {
      "text/plain": [
       "(3, 3)"
      ]
     },
     "execution_count": 8,
     "metadata": {},
     "output_type": "execute_result"
    }
   ],
   "source": [
    "a.shape"
   ]
  },
  {
   "cell_type": "code",
   "execution_count": 9,
   "id": "4a01f5d5-df10-41d8-9e38-60aab11c3e57",
   "metadata": {},
   "outputs": [
    {
     "data": {
      "text/plain": [
       "np.int64(9)"
      ]
     },
     "execution_count": 9,
     "metadata": {},
     "output_type": "execute_result"
    }
   ],
   "source": [
    "a[2][2]"
   ]
  },
  {
   "cell_type": "code",
   "execution_count": 10,
   "id": "96a5a874-cbd2-4867-8ab2-a7ae1b93b23b",
   "metadata": {},
   "outputs": [
    {
     "data": {
      "text/plain": [
       "array([[1., 0., 0.],\n",
       "       [0., 1., 0.],\n",
       "       [0., 0., 1.]])"
      ]
     },
     "execution_count": 10,
     "metadata": {},
     "output_type": "execute_result"
    }
   ],
   "source": [
    "np.eye((3))                  "
   ]
  },
  {
   "cell_type": "code",
   "execution_count": 11,
   "id": "c1732a99-8597-4d33-9a7a-20090af2f49c",
   "metadata": {},
   "outputs": [
    {
     "name": "stdout",
     "output_type": "stream",
     "text": [
      "1D Array: [1 2 3]\n",
      "2D Array: [[1 2]\n",
      " [3 4]]\n",
      "Zeros: [[0. 0. 0.]\n",
      " [0. 0. 0.]]\n",
      "Ones: [[1. 1. 1.]\n",
      " [1. 1. 1.]\n",
      " [1. 1. 1.]]\n",
      "Identity: [[1. 0. 0.]\n",
      " [0. 1. 0.]\n",
      " [0. 0. 1.]]\n",
      "Arange: [0 2 4 6 8]\n",
      "Linspace: [0.   0.25 0.5  0.75 1.  ]\n",
      "Random: [[0.4673968  0.37373691]\n",
      " [0.88429289 0.88931283]]\n"
     ]
    }
   ],
   "source": [
    "# Creating arrays\n",
    "a = np.array([1, 2, 3])                  # 1D array\n",
    "b = np.array([[1, 2], [3, 4]])           # 2D array\n",
    "c = np.zeros((2, 3))                     # Array of zeros\n",
    "d = np.ones((3, 3))                      # Array of ones\n",
    "e = np.eye(3)                            # Identity matrix\n",
    "\n",
    "\n",
    "f = np.arange(0, 10, 2)                  # (start, end, step) # Range of values\n",
    "\n",
    "\n",
    "g = np.linspace(0, 1, 5)                 # Evenly spaced values\n",
    "\n",
    "h = np.random.rand(2, 2)                 # Random values\n",
    "\n",
    "print(\"1D Array:\", a)\n",
    "print(\"2D Array:\", b)\n",
    "print(\"Zeros:\", c)\n",
    "print(\"Ones:\", d)\n",
    "print(\"Identity:\", e)\n",
    "print(\"Arange:\", f)\n",
    "print(\"Linspace:\", g)\n",
    "print(\"Random:\", h)"
   ]
  },
  {
   "cell_type": "code",
   "execution_count": 12,
   "id": "f85fc9d5-966f-4f3e-8969-cb89efbcdcd2",
   "metadata": {},
   "outputs": [
    {
     "name": "stdout",
     "output_type": "stream",
     "text": [
      "Shape: (2, 3)\n",
      "Size: 6\n",
      "Data type: int64\n",
      "Number of dimensions: 2\n"
     ]
    }
   ],
   "source": [
    "a = np.array([[1, 2, 3], [4, 5, 6]])\n",
    "print(\"Shape:\", a.shape)             # (2, 3)\n",
    "print(\"Size:\", a.size)               # 6\n",
    "print(\"Data type:\", a.dtype)         # int64\n",
    "print(\"Number of dimensions:\", a.ndim)  # 2"
   ]
  },
  {
   "cell_type": "code",
   "execution_count": 13,
   "id": "0fada49a-5d26-469b-aed2-2885c570ce91",
   "metadata": {},
   "outputs": [
    {
     "name": "stdout",
     "output_type": "stream",
     "text": [
      "2\n",
      "[2 5]\n",
      "[4 5 6]\n"
     ]
    }
   ],
   "source": [
    "print(a[0, 1])     # Element at first row, second column\n",
    "print(a[:, 1])     # All rows, second column\n",
    "print(a[1, :])     # Second row"
   ]
  },
  {
   "cell_type": "code",
   "execution_count": 14,
   "id": "5cb9cdf8-3bdd-4772-8e83-5be4531f01ee",
   "metadata": {},
   "outputs": [
    {
     "name": "stdout",
     "output_type": "stream",
     "text": [
      "Reshaped: [[1 2]\n",
      " [3 4]\n",
      " [5 6]]\n",
      "Flattened: [1 2 3 4 5 6]\n",
      "Transposed: [[1 4]\n",
      " [2 5]\n",
      " [3 6]]\n"
     ]
    }
   ],
   "source": [
    "a_reshaped = a.reshape(3, 2)\n",
    "a_flat = a.flatten()  # 1D array\n",
    "a_T = a.T\n",
    "print(\"Reshaped:\", a_reshaped)\n",
    "print(\"Flattened:\", a_flat)\n",
    "print(\"Transposed:\", a_T)"
   ]
  },
  {
   "cell_type": "code",
   "execution_count": 15,
   "id": "cf60fbb9-a8e3-4757-b5f6-8b20b880127e",
   "metadata": {},
   "outputs": [
    {
     "name": "stdout",
     "output_type": "stream",
     "text": [
      "Sum: 10\n",
      "Mean: 2.5\n",
      "Median: 2.5\n",
      "Std Dev: 1.118033988749895\n",
      "Min: 1\n",
      "Max: 4\n",
      "Argmin: 0\n",
      "Argmax: 3\n"
     ]
    }
   ],
   "source": [
    "x = np.array([1, 2, 3, 4])\n",
    "print(\"Sum:\", np.sum(x))\n",
    "print(\"Mean:\", np.mean(x))\n",
    "print(\"Median:\", np.median(x))\n",
    "print(\"Std Dev:\", np.std(x))\n",
    "print(\"Min:\", np.min(x))\n",
    "print(\"Max:\", np.max(x))\n",
    "print(\"Argmin:\", np.argmin(x))\n",
    "print(\"Argmax:\", np.argmax(x))"
   ]
  },
  {
   "cell_type": "code",
   "execution_count": 16,
   "id": "461f1099-cfaf-4a78-b8ad-738255de3993",
   "metadata": {},
   "outputs": [
    {
     "data": {
      "text/plain": [
       "array([1, 2, 3, 4])"
      ]
     },
     "execution_count": 16,
     "metadata": {},
     "output_type": "execute_result"
    }
   ],
   "source": [
    "x"
   ]
  },
  {
   "cell_type": "code",
   "execution_count": 17,
   "id": "83bef269-6ac4-4dc0-9a8f-9d13b609a1b3",
   "metadata": {},
   "outputs": [
    {
     "data": {
      "text/plain": [
       "array([10, 20, 30, 40])"
      ]
     },
     "execution_count": 17,
     "metadata": {},
     "output_type": "execute_result"
    }
   ],
   "source": [
    "y = np.array([10, 20, 30, 40])\n",
    "y"
   ]
  },
  {
   "cell_type": "code",
   "execution_count": 18,
   "id": "e8753893-3f20-49c9-8d90-e31d2f2d9995",
   "metadata": {},
   "outputs": [
    {
     "data": {
      "text/plain": [
       "array([ 10,  40,  90, 160])"
      ]
     },
     "execution_count": 18,
     "metadata": {},
     "output_type": "execute_result"
    }
   ],
   "source": [
    "x * y"
   ]
  },
  {
   "cell_type": "code",
   "execution_count": 19,
   "id": "f9b52bcc-d35c-4681-b21f-c21ced381cba",
   "metadata": {},
   "outputs": [
    {
     "name": "stdout",
     "output_type": "stream",
     "text": [
      "Addition: [11 22 33 44]\n",
      "Subtraction: [ 9 18 27 36]\n",
      "Multiplication: [ 10  40  90 160]\n",
      "Division: [10. 10. 10. 10.]\n",
      "Square root: [1.         1.41421356 1.73205081 2.        ]\n",
      "Exponential: [ 2.71828183  7.3890561  20.08553692 54.59815003]\n",
      "Logarithm: [0.         0.69314718 1.09861229 1.38629436]\n"
     ]
    }
   ],
   "source": [
    "\n",
    "print(\"Addition:\", x + y)\n",
    "print(\"Subtraction:\", y - x)\n",
    "print(\"Multiplication:\", x * y)\n",
    "print(\"Division:\", y / x)\n",
    "print(\"Square root:\", np.sqrt(x))\n",
    "print(\"Exponential:\", np.exp(x))\n",
    "print(\"Logarithm:\", np.log(x))"
   ]
  },
  {
   "cell_type": "code",
   "execution_count": 20,
   "id": "9c9a4acf-8462-424f-b0b9-bee2068e62d9",
   "metadata": {},
   "outputs": [
    {
     "name": "stdout",
     "output_type": "stream",
     "text": [
      "[1 2 3 4]\n"
     ]
    },
    {
     "data": {
      "text/plain": [
       "array([4])"
      ]
     },
     "execution_count": 20,
     "metadata": {},
     "output_type": "execute_result"
    }
   ],
   "source": [
    "print(x)\n",
    "x[x > 3]"
   ]
  },
  {
   "cell_type": "code",
   "execution_count": 21,
   "id": "16cb5142-fa78-43a1-b121-0c87534ea86b",
   "metadata": {},
   "outputs": [
    {
     "name": "stdout",
     "output_type": "stream",
     "text": [
      "Mask: [False False  True  True]\n",
      "Filtered: [3 4]\n"
     ]
    }
   ],
   "source": [
    "mask = x > 2\n",
    "print(\"Mask:\", mask)\n",
    "print(\"Filtered:\", x[mask])"
   ]
  },
  {
   "cell_type": "code",
   "execution_count": 22,
   "id": "d4d14f68-218e-4a61-827d-96ae0114c1b5",
   "metadata": {},
   "outputs": [
    {
     "name": "stdout",
     "output_type": "stream",
     "text": [
      "Dot Product: [[19 22]\n",
      " [43 50]]\n",
      "Matrix Mult: [[19 22]\n",
      " [43 50]]\n"
     ]
    }
   ],
   "source": [
    "a = np.array([[1, 2], [3, 4]])\n",
    "b = np.array([[5, 6], [7, 8]])\n",
    "print(\"Dot Product:\", np.dot(a, b))\n",
    "print(\"Matrix Mult:\", a @ b)"
   ]
  },
  {
   "cell_type": "code",
   "execution_count": 23,
   "id": "1167531f-a82c-407c-8bc1-421c4ce720d8",
   "metadata": {},
   "outputs": [
    {
     "name": "stdout",
     "output_type": "stream",
     "text": [
      "Determinant: -2.0000000000000004\n",
      "Inverse: [[-2.   1. ]\n",
      " [ 1.5 -0.5]]\n",
      "Eigenvalues: EigResult(eigenvalues=array([-0.37228132,  5.37228132]), eigenvectors=array([[-0.82456484, -0.41597356],\n",
      "       [ 0.56576746, -0.90937671]]))\n"
     ]
    }
   ],
   "source": [
    "print(\"Determinant:\", np.linalg.det(a))\n",
    "print(\"Inverse:\", np.linalg.inv(a))\n",
    "print(\"Eigenvalues:\", np.linalg.eig(a))"
   ]
  },
  {
   "cell_type": "code",
   "execution_count": 24,
   "id": "ca808f41-9ac6-4368-b1a5-1fac29aaa6c2",
   "metadata": {},
   "outputs": [
    {
     "name": "stdout",
     "output_type": "stream",
     "text": [
      "Random integers: [[5 0 3]\n",
      " [3 7 9]]\n",
      "Random floats: [[0.6235637  0.38438171]\n",
      " [0.29753461 0.05671298]]\n",
      "Normal dist: [[-0.1730696  -1.76165167]\n",
      " [-0.08767307  1.36687937]]\n"
     ]
    }
   ],
   "source": [
    "np.random.seed(0)\n",
    "print(\"Random integers:\", np.random.randint(0, 10, (2, 3)))\n",
    "print(\"Random floats:\", np.random.rand(2, 2))\n",
    "print(\"Normal dist:\", np.random.randn(2, 2))"
   ]
  },
  {
   "cell_type": "code",
   "execution_count": null,
   "id": "92f70c36-ab6f-4618-9ef6-ddbf89e359d3",
   "metadata": {},
   "outputs": [],
   "source": []
  }
 ],
 "metadata": {
  "kernelspec": {
   "display_name": "Python 3 (ipykernel)",
   "language": "python",
   "name": "python3"
  },
  "language_info": {
   "codemirror_mode": {
    "name": "ipython",
    "version": 3
   },
   "file_extension": ".py",
   "mimetype": "text/x-python",
   "name": "python",
   "nbconvert_exporter": "python",
   "pygments_lexer": "ipython3",
   "version": "3.13.2"
  }
 },
 "nbformat": 4,
 "nbformat_minor": 5
}
